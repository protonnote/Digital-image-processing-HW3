{
 "cells": [
  {
   "cell_type": "code",
   "execution_count": 1,
   "metadata": {},
   "outputs": [],
   "source": [
    "import numpy as np\n",
    "from PIL import Image"
   ]
  },
  {
   "cell_type": "code",
   "execution_count": 2,
   "metadata": {},
   "outputs": [],
   "source": [
    "def writePGM(file, w, h, depth, flatImg):\n",
    "    file.write('P5\\n'.encode())\n",
    "    file.write('{} {}\\n'.format(w, h).encode())\n",
    "    file.write('{}\\n'.format(depth).encode())\n",
    "    file.write(bytearray(flatImg))\n",
    "    file.close()"
   ]
  },
  {
   "cell_type": "code",
   "execution_count": 3,
   "metadata": {},
   "outputs": [],
   "source": [
    "def flatten(arr):\n",
    "    return sum(arr, [])"
   ]
  },
  {
   "cell_type": "code",
   "execution_count": 4,
   "metadata": {},
   "outputs": [],
   "source": [
    "def convert_to_gray(img):\n",
    "    m,n = len(img[0]),len(img)\n",
    "    result = [[255]*m for _ in range(n)]\n",
    "    for i in range(n):\n",
    "        for j in range(m):\n",
    "            result[i][j] = int(sum(img[i][j])/3)\n",
    "    return result"
   ]
  },
  {
   "cell_type": "code",
   "execution_count": 5,
   "metadata": {},
   "outputs": [],
   "source": [
    "def segment(img,Tmin,Tmax):\n",
    "    m = len(img[0])\n",
    "    n = len(img)\n",
    "    bg = [[255]*m for _ in range(n)]\n",
    "    count = 0\n",
    "    for i in range(n):\n",
    "        for j in range(m):\n",
    "            if Tmin <= img[i][j] and img[i][j] <= Tmax :\n",
    "                bg[i][j] = 255\n",
    "                count += 1\n",
    "            else :\n",
    "                bg[i][j] = 0\n",
    "    return bg , count"
   ]
  },
  {
   "cell_type": "code",
   "execution_count": 6,
   "metadata": {},
   "outputs": [],
   "source": [
    "def padding_center(img, pad):\n",
    "    pading = [255]*(pad//2)\n",
    "    l = len(img[0])\n",
    "    for row in img :\n",
    "        for zero in pading :\n",
    "            row.insert(0, zero)\n",
    "        row.extend(pading)\n",
    "    pading = [[255]*(l + 2 * (pad//2)) for _ in range(pad//2)]\n",
    "    for row in pading:\n",
    "        img.insert(0, row)\n",
    "    img.extend(pading)"
   ]
  },
  {
   "cell_type": "code",
   "execution_count": 7,
   "metadata": {},
   "outputs": [],
   "source": [
    "def convolution(img,kernel):\n",
    "    n = len(img)\n",
    "    m = len(img[0])\n",
    "    result_img = [[255]*m for _ in range(n)]\n",
    "    for i in range(1,n-1):\n",
    "        for j in range(1,m-1):\n",
    "            temp = 0\n",
    "            temp += img[i][j] * kernel[1][1]\n",
    "            temp += img[i-1][j-1] * kernel[0][0]\n",
    "            temp += img[i-1][j] * kernel[0][1]\n",
    "            temp += img[i+1][j+1] * kernel[2][2]\n",
    "            temp += img[i][j-1] * kernel[1][0]\n",
    "            temp += img[i][j+1] * kernel[1][2]\n",
    "            temp += img[i+1][j-1] * kernel[2][0]\n",
    "            temp += img[i+1][j] * kernel[2][1]\n",
    "            temp += img[i+1][j+1] * kernel[2][2]\n",
    "            result_img[i][j] = int(temp)\n",
    "    return result_img"
   ]
  },
  {
   "cell_type": "code",
   "execution_count": 8,
   "metadata": {},
   "outputs": [],
   "source": [
    "def contrast_s(li):\n",
    "    result = []\n",
    "    c = np.amin(li)\n",
    "    d = np.amax(li)\n",
    "    a = 0\n",
    "    b = 255\n",
    "    for i in range(len(li)):\n",
    "        row = []\n",
    "        for j in range(len(li[0])):\n",
    "            p = li[i][j]\n",
    "            p_out = (p - c)*((b - a)/(d - c)) + a\n",
    "            row.append(int(p_out))\n",
    "        result.append(row)\n",
    "    return result"
   ]
  },
  {
   "cell_type": "code",
   "execution_count": 9,
   "metadata": {},
   "outputs": [],
   "source": [
    "img_1H = Image.open(\".\\WormHole_1H.tif\")\n",
    "# img_1H.show()\n",
    "img_2H = Image.open(\".\\WormHole_2H.tif\")\n",
    "# img_1H.show()"
   ]
  },
  {
   "cell_type": "code",
   "execution_count": 10,
   "metadata": {},
   "outputs": [],
   "source": [
    "img_np_1H = np.array(img_1H)\n",
    "img_np_2H = np.array(img_2H)"
   ]
  },
  {
   "cell_type": "code",
   "execution_count": 11,
   "metadata": {},
   "outputs": [],
   "source": [
    "gray_img_1H = convert_to_gray(img_np_1H)\n",
    "gray_img_2H = convert_to_gray(img_np_2H)"
   ]
  },
  {
   "cell_type": "code",
   "execution_count": 12,
   "metadata": {},
   "outputs": [],
   "source": [
    "save_dir = open(\"./result_1H.pgm\",\"wb\")\n",
    "writePGM(save_dir , len(gray_img_1H[0]) , len(gray_img_1H) , 255 , flatten(gray_img_1H))"
   ]
  },
  {
   "cell_type": "code",
   "execution_count": 13,
   "metadata": {},
   "outputs": [],
   "source": [
    "save_dir = open(\"./result_2H.pgm\",\"wb\")\n",
    "writePGM(save_dir , len(gray_img_2H[0]) , len(gray_img_2H) , 255 , flatten(gray_img_2H))"
   ]
  },
  {
   "cell_type": "code",
   "execution_count": 83,
   "metadata": {},
   "outputs": [],
   "source": [
    "pic , cc = segment(gray_img_1H,75,255)"
   ]
  },
  {
   "cell_type": "code",
   "execution_count": 14,
   "metadata": {},
   "outputs": [],
   "source": [
    "new_gray_img_1H = gray_img_1H.copy()\n",
    "new_gray_img_2H = gray_img_2H.copy()"
   ]
  },
  {
   "cell_type": "code",
   "execution_count": 15,
   "metadata": {},
   "outputs": [],
   "source": [
    "kernel = np.array([[-1, -1, -1],[-1,  8, -1],[-1, -1, -1]])"
   ]
  },
  {
   "cell_type": "code",
   "execution_count": 16,
   "metadata": {},
   "outputs": [],
   "source": [
    "padding_center(new_gray_img_1H,2)\n",
    "padding_center(new_gray_img_2H,2)"
   ]
  },
  {
   "cell_type": "code",
   "execution_count": 17,
   "metadata": {},
   "outputs": [],
   "source": [
    "raw_img_1H = convolution(new_gray_img_1H,kernel)\n",
    "raw_img_2H = convolution(new_gray_img_2H,kernel)"
   ]
  },
  {
   "cell_type": "code",
   "execution_count": 18,
   "metadata": {},
   "outputs": [],
   "source": [
    "con_img_1H = contrast_s(raw_img_1H)\n",
    "con_img_2H = contrast_s(raw_img_2H)"
   ]
  },
  {
   "cell_type": "code",
   "execution_count": 19,
   "metadata": {},
   "outputs": [],
   "source": [
    "save_dir = open(\"./edge_1H.pgm\",\"wb\")\n",
    "writePGM(save_dir , len(con_img_1H[0]) , len(con_img_1H) , 255 , flatten(con_img_1H))"
   ]
  },
  {
   "cell_type": "code",
   "execution_count": 20,
   "metadata": {},
   "outputs": [],
   "source": [
    "save_dir = open(\"./edge_2H.pgm\",\"wb\")\n",
    "writePGM(save_dir , len(con_img_2H[0]) , len(con_img_2H) , 255 , flatten(con_img_2H))"
   ]
  },
  {
   "cell_type": "code",
   "execution_count": null,
   "metadata": {},
   "outputs": [],
   "source": []
  }
 ],
 "metadata": {
  "interpreter": {
   "hash": "dcacb0086e9a4f4eabd41c33bf4faac5ea0a3337ed3f5eff0680afa930572c04"
  },
  "kernelspec": {
   "display_name": "Python 3.9.8 64-bit",
   "language": "python",
   "name": "python3"
  },
  "language_info": {
   "codemirror_mode": {
    "name": "ipython",
    "version": 3
   },
   "file_extension": ".py",
   "mimetype": "text/x-python",
   "name": "python",
   "nbconvert_exporter": "python",
   "pygments_lexer": "ipython3",
   "version": "3.9.8"
  },
  "orig_nbformat": 4
 },
 "nbformat": 4,
 "nbformat_minor": 2
}
